{
 "cells": [
  {
   "cell_type": "code",
   "execution_count": 43,
   "metadata": {},
   "outputs": [],
   "source": [
    "%matplotlib inline\n",
    "import matplotlib.pyplot as plt\n",
    "import pandas as pd\n",
    "import numpy as np\n",
    "import seaborn as sns"
   ]
  },
  {
   "cell_type": "markdown",
   "metadata": {},
   "source": [
    "### Scatpack data results\n",
    "I'm using a programming language caled Python to read the data, analyze it, and make some plots."
   ]
  },
  {
   "cell_type": "markdown",
   "metadata": {},
   "source": [
    "### Load the data"
   ]
  },
  {
   "cell_type": "code",
   "execution_count": 44,
   "metadata": {},
   "outputs": [
    {
     "data": {
      "text/html": [
       "<div>\n",
       "<style scoped>\n",
       "    .dataframe tbody tr th:only-of-type {\n",
       "        vertical-align: middle;\n",
       "    }\n",
       "\n",
       "    .dataframe tbody tr th {\n",
       "        vertical-align: top;\n",
       "    }\n",
       "\n",
       "    .dataframe thead th {\n",
       "        text-align: right;\n",
       "    }\n",
       "</style>\n",
       "<table border=\"1\" class=\"dataframe\">\n",
       "  <thead>\n",
       "    <tr style=\"text-align: right;\">\n",
       "      <th></th>\n",
       "      <th>Date</th>\n",
       "      <th>MUC_id</th>\n",
       "      <th>Location_meters</th>\n",
       "      <th>Total_Weight_grams</th>\n",
       "      <th>Fur_grams</th>\n",
       "      <th>Bones_grams</th>\n",
       "      <th>Other_grams</th>\n",
       "    </tr>\n",
       "  </thead>\n",
       "  <tbody>\n",
       "    <tr>\n",
       "      <th>0</th>\n",
       "      <td>11/3/17</td>\n",
       "      <td>1 MUC 4322</td>\n",
       "      <td>39.0</td>\n",
       "      <td>2.1</td>\n",
       "      <td>1.50</td>\n",
       "      <td>0.01</td>\n",
       "      <td>0.00</td>\n",
       "    </tr>\n",
       "    <tr>\n",
       "      <th>1</th>\n",
       "      <td>11/3/17</td>\n",
       "      <td>1 MUC 4322</td>\n",
       "      <td>-120.0</td>\n",
       "      <td>13.0</td>\n",
       "      <td>2.20</td>\n",
       "      <td>0.20</td>\n",
       "      <td>10.60</td>\n",
       "    </tr>\n",
       "    <tr>\n",
       "      <th>2</th>\n",
       "      <td>11/3/17</td>\n",
       "      <td>1 MUC 4322</td>\n",
       "      <td>-39.2</td>\n",
       "      <td>2.4</td>\n",
       "      <td>1.50</td>\n",
       "      <td>0.01</td>\n",
       "      <td>0.95</td>\n",
       "    </tr>\n",
       "    <tr>\n",
       "      <th>3</th>\n",
       "      <td>11/3/17</td>\n",
       "      <td>1 MUC 4322</td>\n",
       "      <td>-12.0</td>\n",
       "      <td>5.6</td>\n",
       "      <td>5.48</td>\n",
       "      <td>0.12</td>\n",
       "      <td>0.00</td>\n",
       "    </tr>\n",
       "    <tr>\n",
       "      <th>4</th>\n",
       "      <td>11/3/17</td>\n",
       "      <td>3 MUC 4361</td>\n",
       "      <td>-28.3</td>\n",
       "      <td>8.3</td>\n",
       "      <td>7.91</td>\n",
       "      <td>1.37</td>\n",
       "      <td>0.00</td>\n",
       "    </tr>\n",
       "  </tbody>\n",
       "</table>\n",
       "</div>"
      ],
      "text/plain": [
       "      Date      MUC_id  Location_meters  Total_Weight_grams  Fur_grams  \\\n",
       "0  11/3/17  1 MUC 4322             39.0                 2.1       1.50   \n",
       "1  11/3/17  1 MUC 4322           -120.0                13.0       2.20   \n",
       "2  11/3/17  1 MUC 4322            -39.2                 2.4       1.50   \n",
       "3  11/3/17  1 MUC 4322            -12.0                 5.6       5.48   \n",
       "4  11/3/17  3 MUC 4361            -28.3                 8.3       7.91   \n",
       "\n",
       "   Bones_grams  Other_grams  \n",
       "0         0.01         0.00  \n",
       "1         0.20        10.60  \n",
       "2         0.01         0.95  \n",
       "3         0.12         0.00  \n",
       "4         1.37         0.00  "
      ]
     },
     "execution_count": 44,
     "metadata": {},
     "output_type": "execute_result"
    }
   ],
   "source": [
    "df = pd.read_csv('./scat_pack_data.csv')\n",
    "df.head()"
   ]
  },
  {
   "cell_type": "markdown",
   "metadata": {},
   "source": [
    "### This code makes the plots look the way that I want"
   ]
  },
  {
   "cell_type": "code",
   "execution_count": 45,
   "metadata": {},
   "outputs": [],
   "source": [
    "def bar_plots(cat,data,ax,title):\n",
    "    sns.barplot(cat, data, palette=\"Set1\", ax=ax)\n",
    "    ax.set_title(title,size=16)\n",
    "    ax.set_ylim(0,1)\n",
    "    sns.despine(bottom=True)\n",
    "    ax.tick_params(axis='y', labelsize=16)\n",
    "    ax.tick_params(axis='x', labelsize=14)\n",
    "    plt.tight_layout(h_pad=3)"
   ]
  },
  {
   "cell_type": "markdown",
   "metadata": {},
   "source": [
    "## MUC1\n",
    "\n",
    "First, I selected onlt the data from MUC 1.\n",
    "\n",
    "Second, I normalized the data by totaling the weight of each of the catagories and dividing that by the total weight of all of the collected scat.\n",
    "\n",
    "The result is the __Fraction of Total Weight__ (or if you prefer percent, multiply by 100) for each catagory, which makes it easier to compare the composition of the scat from one MUC to another.\n"
   ]
  },
  {
   "cell_type": "code",
   "execution_count": 46,
   "metadata": {},
   "outputs": [
    {
     "data": {
      "image/png": "[encoded data removed]",
      "text/plain": [
       "<matplotlib.figure.Figure at 0x121930898>"
      ]
     },
     "metadata": {},
     "output_type": "display_data"
    }
   ],
   "source": [
    "x = np.array(['Fur','Bones','Other'])\n",
    "muc1 = df[df['MUC_id']=='1 MUC 4322']\n",
    "muc1_sum = muc1[['Total_Weight_grams','Fur_grams','Bones_grams','Other_grams']].sum()\n",
    "norm = muc1_sum/muc1_sum['Total_Weight_grams']\n",
    "fig, ax = plt.subplots()\n",
    "bar_plots(x, norm.values[1:],ax,'MUC 1')"
   ]
  },
  {
   "cell_type": "markdown",
   "metadata": {},
   "source": [
    "## Now do that for all of the sites"
   ]
  },
  {
   "cell_type": "code",
   "execution_count": 48,
   "metadata": {},
   "outputs": [
    {
     "data": {
      "image/png": "[encoded data removed]",
      "text/plain": [
       "<matplotlib.figure.Figure at 0x1222553c8>"
      ]
     },
     "metadata": {},
     "output_type": "display_data"
    }
   ],
   "source": [
    "x = np.array(['Fur','Bones','Other'])\n",
    "muc1 = df[df['MUC_id']=='1 MUC 4322']\n",
    "muc1_sum = muc1[['Total_Weight_grams','Fur_grams','Bones_grams','Other_grams']].sum()\n",
    "norm1 = muc1_sum/muc1_sum['Total_Weight_grams']\n",
    "\n",
    "muc2 = df[df['MUC_id']=='2 MUC 4361']\n",
    "muc2_sum = muc2[['Total_Weight_grams','Fur_grams','Bones_grams','Other_grams']].sum()\n",
    "norm2 = muc2_sum/muc2_sum['Total_Weight_grams']\n",
    "\n",
    "muc3 = df[df['MUC_id']=='3 MUC 4361']\n",
    "muc3_sum = muc3[['Total_Weight_grams','Fur_grams','Bones_grams','Other_grams']].sum()\n",
    "norm3 = muc3_sum/muc3_sum['Total_Weight_grams']\n",
    "\n",
    "\n",
    "\n",
    "#### Plot the data ####\n",
    "fig, ax = plt.subplots(ncols=3,sharey=True)\n",
    "fig.set_size_inches(w=10,h=6)\n",
    "bar_plots(x, norm1.values[1:],ax[0],'MUC 1')\n",
    "bar_plots(x, norm2.values[1:],ax[1],'MUC 2')\n",
    "bar_plots(x, norm3.values[1:],ax[2],'MUC 3')\n",
    "ax[0].set_ylabel(\"Fraction of Weight\",size=16)\n",
    "\n",
    "plt.tight_layout()"
   ]
  },
  {
   "cell_type": "markdown",
   "metadata": {},
   "source": [
    "Now you can look at each of these next to each other and see exactly how that differ\n",
    "\n",
    "Location 4 data didn't look good, consider removing from this analysis "
   ]
  }
 ],
 "metadata": {
  "anaconda-cloud": {},
  "kernelspec": {
   "display_name": "Python [conda root]",
   "language": "python",
   "name": "conda-root-py"
  },
  "language_info": {
   "codemirror_mode": {
    "name": "ipython",
    "version": 3
   },
   "file_extension": ".py",
   "mimetype": "text/x-python",
   "name": "python",
   "nbconvert_exporter": "python",
   "pygments_lexer": "ipython3",
   "version": "3.5.5"
  }
 },
 "nbformat": 4,
 "nbformat_minor": 2
}
